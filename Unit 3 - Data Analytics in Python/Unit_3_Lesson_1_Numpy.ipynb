{
 "cells": [
  {
   "cell_type": "code",
   "execution_count": 1,
   "metadata": {},
   "outputs": [],
   "source": [
    "import numpy as np"
   ]
  },
  {
   "cell_type": "code",
   "execution_count": 3,
   "metadata": {},
   "outputs": [
    {
     "data": {
      "text/plain": [
       "array(['New York City', 'Los Angeles', 'Miami', 'Houston'], dtype='<U13')"
      ]
     },
     "execution_count": 3,
     "metadata": {},
     "output_type": "execute_result"
    }
   ],
   "source": [
    "# Create one dimensional array - unicode datatype\n",
    "np_city = np.array(['New York City','Los Angeles','Miami','Houston'])\n",
    "np_city"
   ]
  },
  {
   "cell_type": "code",
   "execution_count": 5,
   "metadata": {},
   "outputs": [
    {
     "data": {
      "text/plain": [
       "1"
      ]
     },
     "execution_count": 5,
     "metadata": {},
     "output_type": "execute_result"
    }
   ],
   "source": [
    "# Dimension value\n",
    "np_city.ndim"
   ]
  },
  {
   "cell_type": "code",
   "execution_count": 12,
   "metadata": {},
   "outputs": [
    {
     "data": {
      "text/plain": [
       "array([['New York City', 'Los Angeles', 'Miami', 'Houston'],\n",
       "       ['New York', 'California', 'Florida', 'Texas']], dtype='<U13')"
      ]
     },
     "execution_count": 12,
     "metadata": {},
     "output_type": "execute_result"
    }
   ],
   "source": [
    "# Two dimensional array\n",
    "np_city_and_state = np.array([['New York City','Los Angeles','Miami','Houston'],['New York','California','Florida','Texas']])\n",
    "np_city_and_state\n"
   ]
  },
  {
   "cell_type": "code",
   "execution_count": 20,
   "metadata": {},
   "outputs": [
    {
     "name": "stdout",
     "output_type": "stream",
     "text": [
      "Dimension = 1\n",
      "Shape = (4,)\n",
      "Size = 4\n"
     ]
    }
   ],
   "source": [
    "# One dimensional array\n",
    "print('Dimension = ' + str(np_city.ndim))\n",
    "print('Shape = ' + str(np_city.shape))\n",
    "print('Size = ' + str(np_city.size))\n"
   ]
  },
  {
   "cell_type": "code",
   "execution_count": 23,
   "metadata": {},
   "outputs": [
    {
     "name": "stdout",
     "output_type": "stream",
     "text": [
      "Dimension = 2\n",
      "Shape = (2, 4)\n",
      "Size = 8\n"
     ]
    }
   ],
   "source": [
    "# Two dimensional array\n",
    "print('Dimension = ' + str(np_city_and_state.ndim))\n",
    "print('Shape = ' + str(np_city_and_state.shape))\n",
    "print('Size = ' + str(np_city_and_state.size))"
   ]
  },
  {
   "cell_type": "code",
   "execution_count": 31,
   "metadata": {},
   "outputs": [
    {
     "name": "stdout",
     "output_type": "stream",
     "text": [
      "[10 15 17 26]\n",
      "[12 11 21 24]\n",
      "[22 26 38 50]\n"
     ]
    }
   ],
   "source": [
    "#NumPy uses the indices of the elements in each array to carry out basic operations. \n",
    "#In this case, where we are looking at a dataset of four cyclists during two trials, \n",
    "#vector addition of the arrays gives the required output.\n",
    "\n",
    "first_trial_cyclist = [10,15,17,26]\n",
    "second_trial_cyclist = [12,11,21,24]\n",
    "np_first = np.array(first_trial_cyclist)\n",
    "np_second = np.array(second_trial_cyclist)\n",
    "print(np_first)\n",
    "print(np_second)\n",
    "total = np_first + np_second\n",
    "print(total)\n"
   ]
  },
  {
   "cell_type": "code",
   "execution_count": 34,
   "metadata": {},
   "outputs": [
    {
     "data": {
      "text/plain": [
       "array([10, 15, 17, 26])"
      ]
     },
     "execution_count": 34,
     "metadata": {},
     "output_type": "execute_result"
    }
   ],
   "source": [
    "#You can access an entire row of an array by referencing its axis index. \n",
    "cyclist_trials = np.array([[10,15,17,26],[12,11,21,24]])\n",
    "first_trial = cyclist_trials[0]\n",
    "first_trial"
   ]
  },
  {
   "cell_type": "code",
   "execution_count": 36,
   "metadata": {},
   "outputs": [
    {
     "data": {
      "text/plain": [
       "array([12, 11, 21, 24])"
      ]
     },
     "execution_count": 36,
     "metadata": {},
     "output_type": "execute_result"
    }
   ],
   "source": [
    "second_trial = cyclist_trials[1]\n",
    "second_trial"
   ]
  },
  {
   "cell_type": "code",
   "execution_count": 42,
   "metadata": {},
   "outputs": [
    {
     "name": "stdout",
     "output_type": "stream",
     "text": [
      "[[10 15 17 26]\n",
      " [12 11 21 24]]\n",
      "21\n"
     ]
    }
   ],
   "source": [
    "#You can refer the indices of the elements in an array to access them. \n",
    "#You can also select a particular index of more than one axis at a time. \n",
    "print(cyclist_trials)\n",
    "print(cyclist_trials[1][2])"
   ]
  },
  {
   "cell_type": "code",
   "execution_count": 45,
   "metadata": {},
   "outputs": [
    {
     "data": {
      "text/plain": [
       "array([[ True,  True, False,  True],\n",
       "       [False,  True,  True, False]])"
      ]
     },
     "execution_count": 45,
     "metadata": {},
     "output_type": "execute_result"
    }
   ],
   "source": [
    "#Boolean arrays are useful when you need to select a dataset according to set criteria. \n",
    "#Here, the original dataset contains test scores of two students. \n",
    "#You can use a Boolean array to choose only the scores that are above a given value.\n",
    "test_scores = np.array([[83,71,57,63],[54,68,81,45]])\n",
    "passing_scores = test_scores > 60\n",
    "passing_scores"
   ]
  },
  {
   "cell_type": "code",
   "execution_count": 46,
   "metadata": {},
   "outputs": [
    {
     "data": {
      "text/plain": [
       "array([83, 71, 63, 68, 81])"
      ]
     },
     "execution_count": 46,
     "metadata": {},
     "output_type": "execute_result"
    }
   ],
   "source": [
    "# using passing_scores as argument for test_scores\n",
    "test_scores[passing_scores]"
   ]
  },
  {
   "cell_type": "code",
   "execution_count": 54,
   "metadata": {},
   "outputs": [
    {
     "data": {
      "text/plain": [
       "array(['Manhattan', 'Bronx', 'Brooklyn', 'Central Park', 'Queens'],\n",
       "      dtype='<U13')"
      ]
     },
     "execution_count": 54,
     "metadata": {},
     "output_type": "execute_result"
    }
   ],
   "source": [
    "# NumPy has ndarray.view() method which is a new array object that looks at the same data of the original array. \n",
    "# Change in dimensions of the new array doesn’t change dimensions of the original.\n",
    "# Referred to as shallow copy\n",
    "\n",
    "boroughs_in_nyc = np.array(['Manhattan','Bronx','Brooklyn','Staten Island','Queens'])\n",
    "boroughs_view = boroughs_in_nyc.view()\n",
    "boroughs_view[3] = 'Central Park'\n",
    "boroughs_view"
   ]
  },
  {
   "cell_type": "code",
   "execution_count": 55,
   "metadata": {},
   "outputs": [
    {
     "data": {
      "text/plain": [
       "array(['Manhattan', 'Bronx', 'Brooklyn', 'Central Park', 'Queens'],\n",
       "      dtype='<U13')"
      ]
     },
     "execution_count": 55,
     "metadata": {},
     "output_type": "execute_result"
    }
   ],
   "source": [
    "# notice that the original array has changed Staten Island to Central Park as well\n",
    "boroughs_in_nyc"
   ]
  },
  {
   "cell_type": "code",
   "execution_count": 63,
   "metadata": {},
   "outputs": [
    {
     "data": {
      "text/plain": [
       "array(['Bronx', 'Brooklyn'], dtype='<U13')"
      ]
     },
     "execution_count": 63,
     "metadata": {},
     "output_type": "execute_result"
    }
   ],
   "source": [
    "#views are often used to take a slice of the original array\n",
    "reduced_view = boroughs_in_nyc[1:3]\n",
    "reduced_view"
   ]
  },
  {
   "cell_type": "code",
   "execution_count": 64,
   "metadata": {},
   "outputs": [
    {
     "data": {
      "text/plain": [
       "array(['Manhattan', 'Bronx', 'Brooklyn', 'Central Park', 'Queens'],\n",
       "      dtype='<U13')"
      ]
     },
     "execution_count": 64,
     "metadata": {},
     "output_type": "execute_result"
    }
   ],
   "source": [
    "#Original stays the same\n",
    "boroughs_view"
   ]
  },
  {
   "cell_type": "code",
   "execution_count": 65,
   "metadata": {},
   "outputs": [
    {
     "data": {
      "text/plain": [
       "array(['Manhattan', 'Bronx', 'Brooklyn', 'Central Park', 'Queens'],\n",
       "      dtype='<U13')"
      ]
     },
     "execution_count": 65,
     "metadata": {},
     "output_type": "execute_result"
    }
   ],
   "source": [
    "# The copy() method returns a copy of the original array stored at a new location. \n",
    "# The copy doesn’t share data or memory with the original array. The modifications are not reflected. \n",
    "# The copy function is also known as deep copy.\n",
    "\n",
    "boroughs_in_nyc = np.array(['Manhattan','Bronx','Brooklyn','Staten Island','Queens'])\n",
    "boroughs_copy = boroughs_in_nyc.copy()\n",
    "boroughs_copy[3] = 'Central Park'\n",
    "boroughs_copy"
   ]
  },
  {
   "cell_type": "code",
   "execution_count": 66,
   "metadata": {},
   "outputs": [
    {
     "data": {
      "text/plain": [
       "array(['Manhattan', 'Bronx', 'Brooklyn', 'Staten Island', 'Queens'],\n",
       "      dtype='<U13')"
      ]
     },
     "execution_count": 66,
     "metadata": {},
     "output_type": "execute_result"
    }
   ],
   "source": [
    "# Notice that original array stays the same.\n",
    "boroughs_in_nyc"
   ]
  },
  {
   "cell_type": "code",
   "execution_count": 72,
   "metadata": {},
   "outputs": [
    {
     "data": {
      "text/plain": [
       "3.141592653589793"
      ]
     },
     "execution_count": 72,
     "metadata": {},
     "output_type": "execute_result"
    }
   ],
   "source": [
    "# square root\n",
    "np_sqrt = np.sqrt([4,9,16,25])\n",
    "np_sqrt\n"
   ]
  },
  {
   "cell_type": "code",
   "execution_count": 73,
   "metadata": {},
   "outputs": [
    {
     "data": {
      "text/plain": [
       "-1.0"
      ]
     },
     "execution_count": 73,
     "metadata": {},
     "output_type": "execute_result"
    }
   ],
   "source": [
    "from numpy import pi\n",
    "np.cos(pi)"
   ]
  },
  {
   "cell_type": "code",
   "execution_count": 77,
   "metadata": {},
   "outputs": [
    {
     "data": {
      "text/plain": [
       "array([ 1.,  5.,  2.,  7.,  4., -3., -3.])"
      ]
     },
     "execution_count": 77,
     "metadata": {},
     "output_type": "execute_result"
    }
   ],
   "source": [
    "# floor returns largest integer of any value in the array\n",
    "np.floor([1,5,2.6,7.8,4,-3,-2.3])"
   ]
  },
  {
   "cell_type": "code",
   "execution_count": 79,
   "metadata": {},
   "outputs": [
    {
     "name": "stdout",
     "output_type": "stream",
     "text": [
      "[ 2.71828183  7.3890561  20.08553692]\n"
     ]
    }
   ],
   "source": [
    "# Exponential function\n",
    "ar=np.array([1,2,3])\n",
    "ar=np.exp(ar)\n",
    "print(ar)"
   ]
  },
  {
   "cell_type": "code",
   "execution_count": 82,
   "metadata": {},
   "outputs": [
    {
     "name": "stdout",
     "output_type": "stream",
     "text": [
      "[11 22 33 44]\n"
     ]
    }
   ],
   "source": [
    "# The term broadcasting refers to the ability of NumPy to treat arrays of different shapes during arithmetic operations. \n",
    "# Arithmetic operations on arrays are usually done on corresponding elements.\n",
    "# If two arrays are of exactly the same shape, then these operations are smoothly performed.\n",
    "a = np.array([1,2,3,4]) \n",
    "b = np.array([10,20,30,40]) \n",
    "c = a + b \n",
    "print(c)"
   ]
  },
  {
   "cell_type": "code",
   "execution_count": 87,
   "metadata": {},
   "outputs": [
    {
     "name": "stdout",
     "output_type": "stream",
     "text": [
      "First array:\n",
      "[[ 0  0  0]\n",
      " [10 10 10]\n",
      " [20 20 20]\n",
      " [30 30 30]]\n",
      "\n",
      "\n",
      "Second array:\n",
      "[1 2 3]\n",
      "\n",
      "\n",
      "First Array + Second Array\n",
      "[[ 1  2  3]\n",
      " [11 12 13]\n",
      " [21 22 23]\n",
      " [31 32 33]]\n"
     ]
    }
   ],
   "source": [
    "a = np.array([[0,0,0],[10,10,10],[20,20,20],[30,30,30]]) \n",
    "b = np.array([1,2,3])  \n",
    "   \n",
    "print('First array:')\n",
    "print(a) \n",
    "print('\\n')\n",
    "   \n",
    "print('Second array:') \n",
    "print(b)\n",
    "print('\\n')  \n",
    "   \n",
    "print('First Array + Second Array') \n",
    "c = a + b\n",
    "print(c)"
   ]
  },
  {
   "cell_type": "code",
   "execution_count": 90,
   "metadata": {},
   "outputs": [
    {
     "data": {
      "text/plain": [
       "array([[83, 71, 57, 63],\n",
       "       [54, 68, 81, 45]])"
      ]
     },
     "execution_count": 90,
     "metadata": {},
     "output_type": "execute_result"
    }
   ],
   "source": [
    "# transpose\n",
    "test_scores = np.array([[83,71,57,63],[54,68,81,45]])\n",
    "test_scores"
   ]
  },
  {
   "cell_type": "code",
   "execution_count": 91,
   "metadata": {},
   "outputs": [
    {
     "data": {
      "text/plain": [
       "array([[83, 54],\n",
       "       [71, 68],\n",
       "       [57, 81],\n",
       "       [63, 45]])"
      ]
     },
     "execution_count": 91,
     "metadata": {},
     "output_type": "execute_result"
    }
   ],
   "source": [
    "test_scores.transpose()"
   ]
  },
  {
   "cell_type": "code",
   "execution_count": 97,
   "metadata": {},
   "outputs": [
    {
     "name": "stdout",
     "output_type": "stream",
     "text": [
      "[[1 2]\n",
      " [3 4]]\n",
      "[[-2.   1. ]\n",
      " [ 1.5 -0.5]]\n"
     ]
    }
   ],
   "source": [
    "# To find the inverse of a 2x2 matrix: swap the positions of a and d, \n",
    "# put negatives in front of b and c, and divide everything by the determinant (ad-bc).\n",
    "#[4,-2],[-3,1]\n",
    "x = np.array([[1,2],[3,4]]) \n",
    "y = np.linalg.inv(x) \n",
    "print(x)\n",
    "print (y)\n"
   ]
  },
  {
   "cell_type": "code",
   "execution_count": 98,
   "metadata": {},
   "outputs": [
    {
     "data": {
      "text/plain": [
       "5"
      ]
     },
     "execution_count": 98,
     "metadata": {},
     "output_type": "execute_result"
    }
   ],
   "source": [
    "# Trace sums up diagonal elemes (1 and 4 in the case below)\n",
    "trace_array = np.array([[1,2],[3,4]]) \n",
    "np.trace(trace_array)"
   ]
  },
  {
   "cell_type": "code",
   "execution_count": null,
   "metadata": {},
   "outputs": [],
   "source": []
  }
 ],
 "metadata": {
  "kernelspec": {
   "display_name": "Python 3",
   "language": "python",
   "name": "python3"
  },
  "language_info": {
   "codemirror_mode": {
    "name": "ipython",
    "version": 3
   },
   "file_extension": ".py",
   "mimetype": "text/x-python",
   "name": "python",
   "nbconvert_exporter": "python",
   "pygments_lexer": "ipython3",
   "version": "3.8.3"
  }
 },
 "nbformat": 4,
 "nbformat_minor": 4
}
