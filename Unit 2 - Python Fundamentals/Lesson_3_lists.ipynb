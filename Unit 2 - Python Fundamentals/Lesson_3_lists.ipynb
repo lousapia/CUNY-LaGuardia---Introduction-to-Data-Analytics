{
 "cells": [
  {
   "cell_type": "code",
   "execution_count": 45,
   "metadata": {},
   "outputs": [
    {
     "name": "stdout",
     "output_type": "stream",
     "text": [
      "['star wars', 'star track', 'lord of the rings', 'avengers']\n"
     ]
    }
   ],
   "source": [
    "movies = ['star wars', 'star track', 'lord of the rings', 'avengers']\n",
    "print(movies)"
   ]
  },
  {
   "cell_type": "code",
   "execution_count": 2,
   "metadata": {},
   "outputs": [
    {
     "name": "stdout",
     "output_type": "stream",
     "text": [
      "Star Track\n"
     ]
    }
   ],
   "source": [
    "print(movies[1])"
   ]
  },
  {
   "cell_type": "code",
   "execution_count": 16,
   "metadata": {},
   "outputs": [
    {
     "name": "stdout",
     "output_type": "stream",
     "text": [
      "['star wars', 'star track', 'lord of the rings']\n"
     ]
    }
   ],
   "source": [
    "print(movies[0:3])"
   ]
  },
  {
   "cell_type": "code",
   "execution_count": 20,
   "metadata": {},
   "outputs": [
    {
     "name": "stdout",
     "output_type": "stream",
     "text": [
      "Star Track STAR TRACK\n"
     ]
    }
   ],
   "source": [
    "#Methods on lists\n",
    "print(movies[1].title() + \" \" + movies[1].upper())"
   ]
  },
  {
   "cell_type": "code",
   "execution_count": 23,
   "metadata": {},
   "outputs": [
    {
     "name": "stdout",
     "output_type": "stream",
     "text": [
      "avengers\n"
     ]
    }
   ],
   "source": [
    "#In Python, you can quickly find the last element in a list by using the -1 index.\n",
    "print(movies[-1])"
   ]
  },
  {
   "cell_type": "code",
   "execution_count": 30,
   "metadata": {},
   "outputs": [
    {
     "name": "stdout",
     "output_type": "stream",
     "text": [
      "star track\n"
     ]
    }
   ],
   "source": [
    "#You can also use –n for findings items from the end of the list.  For example movies[-3]\n",
    "print(movies[-3])"
   ]
  },
  {
   "cell_type": "code",
   "execution_count": 31,
   "metadata": {},
   "outputs": [
    {
     "name": "stdout",
     "output_type": "stream",
     "text": [
      "My favorite all time movie is star wars\n"
     ]
    }
   ],
   "source": [
    "#You can use values from a list like other variables.\n",
    "message = 'My favorite all time movie is ' + movies[0]\n",
    "print(message)"
   ]
  },
  {
   "cell_type": "code",
   "execution_count": 46,
   "metadata": {},
   "outputs": [
    {
     "name": "stdout",
     "output_type": "stream",
     "text": [
      "['star wars', 'the matrix', 'lord of the rings', 'avengers']\n"
     ]
    }
   ],
   "source": [
    "#Python allows you to make modifications to your lists – adding and removing elements from your list.\n",
    "movies[1] = 'the matrix'\n",
    "print(movies)"
   ]
  },
  {
   "cell_type": "code",
   "execution_count": 34,
   "metadata": {},
   "outputs": [
    {
     "name": "stdout",
     "output_type": "stream",
     "text": [
      "['star wars', 'matrix', 'lord of the rings', 'avengers', 'ready player one']\n"
     ]
    }
   ],
   "source": [
    "#Often times, you’ll need to expand your list and add more data.  Python allows this to be done using a simple method called append().\n",
    "movies.append('ready player one')\n",
    "print(movies)"
   ]
  },
  {
   "cell_type": "code",
   "execution_count": 35,
   "metadata": {},
   "outputs": [
    {
     "name": "stdout",
     "output_type": "stream",
     "text": [
      "['Lion King', 'star wars', 'matrix', 'lord of the rings', 'avengers', 'ready player one']\n"
     ]
    }
   ],
   "source": [
    "#Python also allows you to insert elements into your list.\n",
    "movies.insert(0,'Lion King')\n",
    "print(movies)"
   ]
  },
  {
   "cell_type": "code",
   "execution_count": 39,
   "metadata": {},
   "outputs": [
    {
     "name": "stdout",
     "output_type": "stream",
     "text": [
      "['star wars', 'the matrix', 'lord of the rings', 'avengers', 'ready player one']\n",
      "['the matrix', 'lord of the rings', 'avengers', 'ready player one']\n"
     ]
    }
   ],
   "source": [
    "#If you know which position the element you want to remove is in, you can use the del statement to remove that element.\n",
    "print(movies)\n",
    "del(movies[0])\n",
    "print(movies)"
   ]
  },
  {
   "cell_type": "code",
   "execution_count": 47,
   "metadata": {},
   "outputs": [
    {
     "name": "stdout",
     "output_type": "stream",
     "text": [
      "['star wars', 'the matrix', 'lord of the rings', 'avengers']\n",
      "['star wars', 'lord of the rings', 'avengers']\n"
     ]
    }
   ],
   "source": [
    "#You can also remove an element by its value\n",
    "print(movies)\n",
    "movies.remove('the matrix')\n",
    "print(movies)"
   ]
  },
  {
   "cell_type": "code",
   "execution_count": 48,
   "metadata": {},
   "outputs": [],
   "source": [
    "movies = ['star wars', 'star track', 'lord of the rings', 'avengers']"
   ]
  },
  {
   "cell_type": "code",
   "execution_count": 49,
   "metadata": {},
   "outputs": [
    {
     "name": "stdout",
     "output_type": "stream",
     "text": [
      "['star wars', 'star track', 'lord of the rings', 'avengers']\n",
      "['avengers', 'lord of the rings', 'star track', 'star wars']\n"
     ]
    }
   ],
   "source": [
    "#Lists can be sorted using the sort() method.  \n",
    "print(movies)\n",
    "movies.sort()\n",
    "print(movies)"
   ]
  },
  {
   "cell_type": "code",
   "execution_count": 50,
   "metadata": {},
   "outputs": [
    {
     "name": "stdout",
     "output_type": "stream",
     "text": [
      "['avengers', 'lord of the rings', 'star track', 'star wars']\n",
      "['star wars', 'star track', 'lord of the rings', 'avengers']\n"
     ]
    }
   ],
   "source": [
    "print(movies)\n",
    "movies.sort(reverse=True)\n",
    "print(movies)"
   ]
  },
  {
   "cell_type": "code",
   "execution_count": 55,
   "metadata": {},
   "outputs": [
    {
     "name": "stdout",
     "output_type": "stream",
     "text": [
      "The length of your movie list is 4\n"
     ]
    }
   ],
   "source": [
    "#You can find the length of your list by using the len() function.\n",
    "print('The length of your movie list is ' + str(len(movies)))\n"
   ]
  },
  {
   "cell_type": "code",
   "execution_count": 57,
   "metadata": {},
   "outputs": [
    {
     "name": "stdout",
     "output_type": "stream",
     "text": [
      "['star wars', 'star track', 'lord of the rings', 'avengers']\n",
      "['avengers', 'lord of the rings', 'star track', 'star wars']\n",
      "['star wars', 'star track', 'lord of the rings', 'avengers']\n"
     ]
    }
   ],
   "source": [
    "#Sometimes, you don’t want your list to be permanently sorted – you can use the sorted() function to temporarily sort your list.\n",
    "#Lists can be sorted using the sort() method.  \n",
    "print(movies)\n",
    "print(sorted(movies))\n",
    "print(movies)"
   ]
  },
  {
   "cell_type": "code",
   "execution_count": null,
   "metadata": {},
   "outputs": [],
   "source": []
  }
 ],
 "metadata": {
  "kernelspec": {
   "display_name": "Python 3",
   "language": "python",
   "name": "python3"
  },
  "language_info": {
   "codemirror_mode": {
    "name": "ipython",
    "version": 3
   },
   "file_extension": ".py",
   "mimetype": "text/x-python",
   "name": "python",
   "nbconvert_exporter": "python",
   "pygments_lexer": "ipython3",
   "version": "3.8.3"
  }
 },
 "nbformat": 4,
 "nbformat_minor": 4
}
