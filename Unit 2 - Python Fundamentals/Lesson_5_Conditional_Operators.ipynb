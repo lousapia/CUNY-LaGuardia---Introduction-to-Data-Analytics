{
 "cells": [
  {
   "cell_type": "code",
   "execution_count": 1,
   "metadata": {},
   "outputs": [
    {
     "name": "stdout",
     "output_type": "stream",
     "text": [
      "DUCATI\n",
      "bmw\n",
      "yamaha\n",
      "honda\n",
      "kawasaki\n"
     ]
    }
   ],
   "source": [
    "#The Python loop checks to see if the value if bike is ‘ducati’ – if it is: print in UPPER case.  If it isn’t print in lower case.\n",
    "motorcycles = ['ducati','bmw','yamaha','honda','kawasaki']\n",
    "for bike in motorcycles:\n",
    "    if bike == 'ducati':\n",
    "        print(bike.upper())\n",
    "    else:\n",
    "        print(bike.lower())\n",
    "    "
   ]
  },
  {
   "cell_type": "code",
   "execution_count": 2,
   "metadata": {},
   "outputs": [
    {
     "name": "stdout",
     "output_type": "stream",
     "text": [
      "ducati\n",
      "BMW\n",
      "YAMAHA\n",
      "HONDA\n",
      "KAWASAKI\n"
     ]
    }
   ],
   "source": [
    "#Checking for inequality\n",
    "motorcycles = ['ducati','bmw','yamaha','honda','kawasaki']\n",
    "for bike in motorcycles:\n",
    "    if bike != 'ducati':\n",
    "        print(bike.upper())\n",
    "    else:\n",
    "        print(bike.lower())\n",
    "    "
   ]
  },
  {
   "cell_type": "code",
   "execution_count": 3,
   "metadata": {},
   "outputs": [
    {
     "name": "stdout",
     "output_type": "stream",
     "text": [
      "Time to order more bikes.\n"
     ]
    }
   ],
   "source": [
    "#Numeric Comparisons\n",
    "bike_inventory = 12\n",
    "if bike_inventory < 15:\n",
    "    print(\"Time to order more bikes.\")\n",
    "else:\n",
    "    print(\"We have enough bikes.\")"
   ]
  },
  {
   "cell_type": "code",
   "execution_count": 7,
   "metadata": {},
   "outputs": [
    {
     "name": "stdout",
     "output_type": "stream",
     "text": [
      "Check on inventory.\n"
     ]
    }
   ],
   "source": [
    "#Multiple Conditions\n",
    "bike_inventory = 15\n",
    "tire_inventory = 25\n",
    "if bike_inventory <=15 or tire_inventory <=20:\n",
    "    print(\"Check on inventory.\")\n",
    "else:\n",
    "    print(\"Inventory is good.\")"
   ]
  },
  {
   "cell_type": "code",
   "execution_count": 8,
   "metadata": {},
   "outputs": [
    {
     "data": {
      "text/plain": [
       "True"
      ]
     },
     "execution_count": 8,
     "metadata": {},
     "output_type": "execute_result"
    }
   ],
   "source": [
    "#We can use the in or not in keyword to see whether a particular value is in our list or not.\n",
    "motorcycles = ['ducati','bmw','yamaha','honda','kawasaki']\n",
    "'bmw' in motorcycles"
   ]
  },
  {
   "cell_type": "code",
   "execution_count": 14,
   "metadata": {},
   "outputs": [
    {
     "name": "stdout",
     "output_type": "stream",
     "text": [
      "No need to order\n"
     ]
    }
   ],
   "source": [
    "#We can use the in or not in keyword to see whether a particular value is in our list or not.\n",
    "motorcycles = ['ducati','bmw','yamaha','honda','kawasaki']\n",
    "customer_order = 'bmw'\n",
    "if customer_order in motorcycles:\n",
    "    print(\"No need to order\")\n",
    "else:\n",
    "    print(\"Need to order bmw\")"
   ]
  },
  {
   "cell_type": "code",
   "execution_count": 15,
   "metadata": {},
   "outputs": [
    {
     "name": "stdout",
     "output_type": "stream",
     "text": [
      "Admission price is 10.00\n"
     ]
    }
   ],
   "source": [
    "#If-elif-else \n"
   ]
  },
  {
   "cell_type": "code",
   "execution_count": 22,
   "metadata": {},
   "outputs": [
    {
     "name": "stdout",
     "output_type": "stream",
     "text": [
      "Admission is free\n"
     ]
    }
   ],
   "source": [
    "# always test for all condtions\n",
    "customer_age = 4\n",
    "\n",
    "\n",
    "if customer_age < 5:\n",
    "    price = 'free'\n",
    "elif customer_age < 18:\n",
    "    price = 5.00\n",
    "else:\n",
    "    price = 10.00\n",
    "\n",
    "if type(price) == 'str':\n",
    "    print('Admission is free')\n",
    "else:\n",
    "    print('Admission is ' + str(price))"
   ]
  },
  {
   "cell_type": "code",
   "execution_count": null,
   "metadata": {},
   "outputs": [],
   "source": []
  }
 ],
 "metadata": {
  "kernelspec": {
   "display_name": "Python 3",
   "language": "python",
   "name": "python3"
  },
  "language_info": {
   "codemirror_mode": {
    "name": "ipython",
    "version": 3
   },
   "file_extension": ".py",
   "mimetype": "text/x-python",
   "name": "python",
   "nbconvert_exporter": "python",
   "pygments_lexer": "ipython3",
   "version": "3.8.3"
  }
 },
 "nbformat": 4,
 "nbformat_minor": 4
}
