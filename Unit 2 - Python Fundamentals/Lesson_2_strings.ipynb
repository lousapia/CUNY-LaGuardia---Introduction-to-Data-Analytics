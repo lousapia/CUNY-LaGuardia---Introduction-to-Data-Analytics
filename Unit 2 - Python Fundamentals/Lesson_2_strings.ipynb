{
 "cells": [
  {
   "cell_type": "code",
   "execution_count": 8,
   "metadata": {},
   "outputs": [
    {
     "name": "stdout",
     "output_type": "stream",
     "text": [
      "cuny laguardia\n"
     ]
    }
   ],
   "source": [
    "school = 'cuny laguardia'\n",
    "print (school)"
   ]
  },
  {
   "cell_type": "code",
   "execution_count": 9,
   "metadata": {},
   "outputs": [
    {
     "name": "stdout",
     "output_type": "stream",
     "text": [
      "CUNY LAGUARDIA\n"
     ]
    }
   ],
   "source": [
    "school = 'cuny laguardia'\n",
    "print (school.upper())"
   ]
  },
  {
   "cell_type": "code",
   "execution_count": 10,
   "metadata": {},
   "outputs": [
    {
     "name": "stdout",
     "output_type": "stream",
     "text": [
      "cuny laguardia\n"
     ]
    }
   ],
   "source": [
    "school = 'cuny laguardia'\n",
    "print (school.lower())"
   ]
  },
  {
   "cell_type": "code",
   "execution_count": 18,
   "metadata": {},
   "outputs": [
    {
     "name": "stdout",
     "output_type": "stream",
     "text": [
      "Cuny Laguardia\n"
     ]
    }
   ],
   "source": [
    "school = 'cuny laguardia'\n",
    "print (school[0:1].upper() + school[1:4] + \" \" + school[5:6].upper() + school[6:])"
   ]
  },
  {
   "cell_type": "code",
   "execution_count": 5,
   "metadata": {},
   "outputs": [
    {
     "name": "stdout",
     "output_type": "stream",
     "text": [
      "cuny laguardia\n"
     ]
    }
   ],
   "source": [
    "first = 'cuny'\n",
    "last = 'laguardia'\n",
    "full_name = first + \" \" + last\n",
    "print(full_name)"
   ]
  },
  {
   "cell_type": "code",
   "execution_count": 7,
   "metadata": {},
   "outputs": [
    {
     "name": "stdout",
     "output_type": "stream",
     "text": [
      "cuny\tlaguardia\n"
     ]
    }
   ],
   "source": [
    "first = 'cuny'\n",
    "last = '\\tlaguardia'\n",
    "print(first + last)"
   ]
  },
  {
   "cell_type": "code",
   "execution_count": 8,
   "metadata": {},
   "outputs": [
    {
     "name": "stdout",
     "output_type": "stream",
     "text": [
      "cuny\n",
      "laguardia\n"
     ]
    }
   ],
   "source": [
    "first = 'cuny'\n",
    "last = '\\nlaguardia'\n",
    "print(first + last)"
   ]
  },
  {
   "cell_type": "code",
   "execution_count": 9,
   "metadata": {},
   "outputs": [
    {
     "name": "stdout",
     "output_type": "stream",
     "text": [
      "Cuny    Laguardia\n"
     ]
    }
   ],
   "source": [
    "#Extra Space\n",
    "first = 'Cuny    '\n",
    "last = 'Laguardia'\n",
    "full_name = first + last\n",
    "print(full_name)"
   ]
  },
  {
   "cell_type": "code",
   "execution_count": 17,
   "metadata": {},
   "outputs": [
    {
     "name": "stdout",
     "output_type": "stream",
     "text": [
      "Cuny Laguardia\n"
     ]
    }
   ],
   "source": [
    "#Fix extra space\n",
    "\n",
    "first = 'Cuny    '\n",
    "last = 'Laguardia'\n",
    "full_name = first.rstrip() + \" \" +  last\n",
    "print(full_name)"
   ]
  },
  {
   "cell_type": "code",
   "execution_count": 15,
   "metadata": {},
   "outputs": [
    {
     "name": "stdout",
     "output_type": "stream",
     "text": [
      "Cuny Laguardia\n"
     ]
    }
   ],
   "source": [
    "#Fix extra space\n",
    "\n",
    "first = 'Cuny'\n",
    "last = '       Laguardia'\n",
    "full_name = first + \" \" +  last.strip()\n",
    "print(full_name)"
   ]
  },
  {
   "cell_type": "code",
   "execution_count": 22,
   "metadata": {},
   "outputs": [
    {
     "name": "stdout",
     "output_type": "stream",
     "text": [
      "The answer is 12\n"
     ]
    }
   ],
   "source": [
    "x = 5\n",
    "y = 7\n",
    "answer = x + y\n",
    "print ('The answer is ' + str(answer))"
   ]
  },
  {
   "cell_type": "code",
   "execution_count": null,
   "metadata": {},
   "outputs": [],
   "source": []
  }
 ],
 "metadata": {
  "kernelspec": {
   "display_name": "Python 3",
   "language": "python",
   "name": "python3"
  },
  "language_info": {
   "codemirror_mode": {
    "name": "ipython",
    "version": 3
   },
   "file_extension": ".py",
   "mimetype": "text/x-python",
   "name": "python",
   "nbconvert_exporter": "python",
   "pygments_lexer": "ipython3",
   "version": "3.8.3"
  }
 },
 "nbformat": 4,
 "nbformat_minor": 4
}
