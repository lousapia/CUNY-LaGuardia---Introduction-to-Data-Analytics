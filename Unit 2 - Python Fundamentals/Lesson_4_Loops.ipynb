{
 "cells": [
  {
   "cell_type": "code",
   "execution_count": 2,
   "metadata": {},
   "outputs": [
    {
     "name": "stdout",
     "output_type": "stream",
     "text": [
      "c\n",
      "u\n",
      "n\n",
      "y\n"
     ]
    }
   ],
   "source": [
    "#A for loop can be used to loop through and print the letters in a string. \n",
    "for x in 'cuny':\n",
    "    print(x)"
   ]
  },
  {
   "cell_type": "code",
   "execution_count": 3,
   "metadata": {},
   "outputs": [
    {
     "name": "stdout",
     "output_type": "stream",
     "text": [
      "star trek\n",
      "game of thrones\n",
      "stranger things\n",
      "breaking bad\n"
     ]
    }
   ],
   "source": [
    "#For loops can also loop through a list of items\n",
    "tvshows = ['star trek', 'game of thrones','stranger things','breaking bad']\n",
    "for show in tvshows:\n",
    "    print(show)\n"
   ]
  },
  {
   "cell_type": "code",
   "execution_count": 5,
   "metadata": {},
   "outputs": [
    {
     "name": "stdout",
     "output_type": "stream",
     "text": [
      "Star Trek, is one of my favorite TV shows.\n",
      "Game Of Thrones, is one of my favorite TV shows.\n",
      "Stranger Things, is one of my favorite TV shows.\n",
      "Breaking Bad, is one of my favorite TV shows.\n"
     ]
    }
   ],
   "source": [
    "#Adding a string\n",
    "tvshows = ['star trek', 'game of thrones','stranger things','breaking bad']\n",
    "for show in tvshows:\n",
    "    print(show.title() + ', is one of my favorite TV shows.')\n"
   ]
  },
  {
   "cell_type": "code",
   "execution_count": 10,
   "metadata": {},
   "outputs": [
    {
     "name": "stdout",
     "output_type": "stream",
     "text": [
      "Star Trek, is one of my favorite TV shows.\n",
      "Game Of Thrones, is one of my favorite TV shows.\n",
      "Stranger Things, is one of my favorite TV shows.\n",
      "Breaking Bad, is one of my favorite TV shows.\n",
      "\n",
      "So, I have 4 favorite TV shows.\n"
     ]
    }
   ],
   "source": [
    "#After a for loop ends, code is still run – outside of the loop.\n",
    "#Adding a string\n",
    "tvshows = ['star trek', 'game of thrones','stranger things','breaking bad']\n",
    "for show in tvshows:\n",
    "    print(show.title() + ', is one of my favorite TV shows.')\n",
    "print('\\nSo, I have ' + str(len(tvshows)) + ' favorite TV shows.')"
   ]
  },
  {
   "cell_type": "code",
   "execution_count": 11,
   "metadata": {},
   "outputs": [
    {
     "ename": "IndentationError",
     "evalue": "expected an indented block (<ipython-input-11-f0ffae51ab54>, line 5)",
     "output_type": "error",
     "traceback": [
      "\u001b[1;36m  File \u001b[1;32m\"<ipython-input-11-f0ffae51ab54>\"\u001b[1;36m, line \u001b[1;32m5\u001b[0m\n\u001b[1;33m    print(show.title() + ', is one of my favorite TV shows.')\u001b[0m\n\u001b[1;37m    ^\u001b[0m\n\u001b[1;31mIndentationError\u001b[0m\u001b[1;31m:\u001b[0m expected an indented block\n"
     ]
    }
   ],
   "source": [
    "#ERRORS:\n",
    "#Sometimes you may forget to indent\n",
    "#For example:\n",
    "tvshows = ['star trek', 'game of thrones','stranger things','breaking bad']\n",
    "for show in tvshows:\n",
    "print(show.title() + ', is one of my favorite TV shows.')\n"
   ]
  },
  {
   "cell_type": "code",
   "execution_count": 13,
   "metadata": {},
   "outputs": [
    {
     "ename": "IndentationError",
     "evalue": "unexpected indent (<ipython-input-13-b7b1f25c8c56>, line 5)",
     "output_type": "error",
     "traceback": [
      "\u001b[1;36m  File \u001b[1;32m\"<ipython-input-13-b7b1f25c8c56>\"\u001b[1;36m, line \u001b[1;32m5\u001b[0m\n\u001b[1;33m    print(tvshows)\u001b[0m\n\u001b[1;37m    ^\u001b[0m\n\u001b[1;31mIndentationError\u001b[0m\u001b[1;31m:\u001b[0m unexpected indent\n"
     ]
    }
   ],
   "source": [
    "#ERRORS:\n",
    "#Sometimes you may indent when you don't need to.\n",
    "#For example:\n",
    "tvshows = ['star trek', 'game of thrones','stranger things','breaking bad']\n",
    " print(tvshows)"
   ]
  },
  {
   "cell_type": "code",
   "execution_count": 20,
   "metadata": {},
   "outputs": [
    {
     "name": "stdout",
     "output_type": "stream",
     "text": [
      "1\n",
      "2\n",
      "3\n",
      "4\n",
      "5\n",
      "6\n",
      "7\n",
      "8\n",
      "9\n"
     ]
    }
   ],
   "source": [
    "#One useful function is the range() function.  It allows you to quickly print out a series of numbers.\n",
    "for num in range(1,10):\n",
    "    print(num)"
   ]
  },
  {
   "cell_type": "code",
   "execution_count": 22,
   "metadata": {},
   "outputs": [
    {
     "name": "stdout",
     "output_type": "stream",
     "text": [
      "[1, 2, 3, 4, 5, 6, 7, 8, 9, 10]\n"
     ]
    }
   ],
   "source": [
    "#The range() function can also be used to make a list [].\n",
    "numbers = list(range(1,11))\n",
    "print(numbers)"
   ]
  },
  {
   "cell_type": "code",
   "execution_count": 26,
   "metadata": {},
   "outputs": [
    {
     "name": "stdout",
     "output_type": "stream",
     "text": [
      "[0, 2, 4, 6, 8, 10]\n"
     ]
    }
   ],
   "source": [
    "#The range() function can also take another argument to determine step size.\n",
    "numbers = list(range(0,11,2))\n",
    "print(numbers)"
   ]
  },
  {
   "cell_type": "code",
   "execution_count": 31,
   "metadata": {},
   "outputs": [
    {
     "name": "stdout",
     "output_type": "stream",
     "text": [
      "The minimum number is 0\n",
      "The maximum number is 10\n",
      "The sum of numbers is 30\n"
     ]
    }
   ],
   "source": [
    "#Obtain minimum, maximum and sum\n",
    "print('The minimum number is ' + str(min(numbers)))\n",
    "print('The maximum number is ' + str(max(numbers)))\n",
    "print('The sum of numbers is ' + str(sum(numbers)))"
   ]
  },
  {
   "cell_type": "code",
   "execution_count": 33,
   "metadata": {},
   "outputs": [
    {
     "name": "stdout",
     "output_type": "stream",
     "text": [
      "The average of numbers is 5.0\n"
     ]
    }
   ],
   "source": [
    "#Obtain average\n",
    "average = sum(numbers)/len(numbers)\n",
    "print('The average of numbers is ' + str(average))"
   ]
  },
  {
   "cell_type": "code",
   "execution_count": 39,
   "metadata": {},
   "outputs": [
    {
     "name": "stdout",
     "output_type": "stream",
     "text": [
      "['star trek', 'game of thrones', 'stranger things']\n",
      "['stranger things', 'breaking bad', 'big bang theory']\n"
     ]
    }
   ],
   "source": [
    "#You can slice through your list to print out only certain groups of elements.\n",
    "tvshows = ['star trek', 'game of thrones','stranger things','breaking bad','big bang theory','black mirror']\n",
    "print(tvshows[0:3])\n",
    "print(tvshows[2:5])"
   ]
  },
  {
   "cell_type": "code",
   "execution_count": 44,
   "metadata": {},
   "outputs": [
    {
     "name": "stdout",
     "output_type": "stream",
     "text": [
      "Star Trek, is one of my favorite TV shows.\n",
      "Game Of Thrones, is one of my favorite TV shows.\n",
      "Stranger Things, is one of my favorite TV shows.\n"
     ]
    }
   ],
   "source": [
    "#loop through slice of loop\n",
    "for show in tvshows[:3]:\n",
    "    print(show.title() + ', is one of my favorite TV shows.')"
   ]
  },
  {
   "cell_type": "code",
   "execution_count": null,
   "metadata": {},
   "outputs": [],
   "source": []
  }
 ],
 "metadata": {
  "kernelspec": {
   "display_name": "Python 3",
   "language": "python",
   "name": "python3"
  },
  "language_info": {
   "codemirror_mode": {
    "name": "ipython",
    "version": 3
   },
   "file_extension": ".py",
   "mimetype": "text/x-python",
   "name": "python",
   "nbconvert_exporter": "python",
   "pygments_lexer": "ipython3",
   "version": "3.8.3"
  }
 },
 "nbformat": 4,
 "nbformat_minor": 4
}
