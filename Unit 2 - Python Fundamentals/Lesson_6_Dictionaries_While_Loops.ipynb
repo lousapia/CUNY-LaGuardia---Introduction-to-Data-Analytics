{
 "cells": [
  {
   "cell_type": "code",
   "execution_count": 2,
   "metadata": {},
   "outputs": [
    {
     "name": "stdout",
     "output_type": "stream",
     "text": [
      "John\n",
      "Kimble\n"
     ]
    }
   ],
   "source": [
    "patient_1 = {'first_name': 'John','last_name': 'Kimble'}\n",
    "print(patient_1['first_name'])\n",
    "print(patient_1['last_name'])"
   ]
  },
  {
   "cell_type": "code",
   "execution_count": 3,
   "metadata": {},
   "outputs": [
    {
     "name": "stdout",
     "output_type": "stream",
     "text": [
      "Hello there, John Kimble\n"
     ]
    }
   ],
   "source": [
    "patient = patient_1['first_name'] + \" \" + patient_1['last_name']\n",
    "print('Hello there, ' + patient)"
   ]
  },
  {
   "cell_type": "code",
   "execution_count": 4,
   "metadata": {},
   "outputs": [
    {
     "name": "stdout",
     "output_type": "stream",
     "text": [
      "{'first_name': 'John', 'last_name': 'Kimble', 'MRN': '00000000', 'Last_exam': 'echo'}\n"
     ]
    }
   ],
   "source": [
    "#Data is always changing – or dynamic.  It makes sense that you are able to modify your dictionaries.\n",
    "#To add a new key-value pair, you would give the name of the dictionary followed by the new key in square brackets along with the new value.\n",
    "patient_1['MRN'] = '00000000'\n",
    "patient_1['Last_exam'] = 'echo'\n",
    "print(patient_1)"
   ]
  },
  {
   "cell_type": "code",
   "execution_count": 6,
   "metadata": {},
   "outputs": [
    {
     "name": "stdout",
     "output_type": "stream",
     "text": [
      "first_name = John\n",
      "last_name = Kimble\n",
      "MRN = 00000000\n",
      "Last_exam = echo\n"
     ]
    }
   ],
   "source": [
    "# Use loop to pring each key value pair\n",
    "for k,v in patient_1.items():\n",
    "    print(k + ' = ' + v)"
   ]
  },
  {
   "cell_type": "code",
   "execution_count": 7,
   "metadata": {},
   "outputs": [
    {
     "name": "stdout",
     "output_type": "stream",
     "text": [
      "{'first_name': 'Jean', 'last_name': 'Picard'}\n"
     ]
    }
   ],
   "source": [
    "#To start filling an empty dictionary, first define a dictionary\n",
    "patient_2 = {}\n",
    "#Then, add each key-value pair on its own line.\n",
    "patient_2['first_name'] = 'Jean'\n",
    "patient_2['last_name'] = 'Picard'\n",
    "print(patient_2)"
   ]
  },
  {
   "cell_type": "code",
   "execution_count": 8,
   "metadata": {},
   "outputs": [
    {
     "name": "stdout",
     "output_type": "stream",
     "text": [
      "{'first_name': 'Jean-Luc', 'last_name': 'Picard'}\n"
     ]
    }
   ],
   "source": [
    "#To modify a value,, give the name of the dictionary with the key in [ ]’s and then the new value you want associated with that key.\n",
    "patient_2['first_name'] = 'Jean-Luc'\n",
    "print(patient_2)"
   ]
  },
  {
   "cell_type": "code",
   "execution_count": 9,
   "metadata": {},
   "outputs": [
    {
     "name": "stdout",
     "output_type": "stream",
     "text": [
      "{'last_name': 'Picard'}\n"
     ]
    }
   ],
   "source": [
    "#Data stored within the key-value pair can be easily removed.\n",
    "#You can use the del statement to completely remove a key-value pair – this is permanent. \n",
    "del patient_2['first_name']\n",
    "print(patient_2)"
   ]
  },
  {
   "cell_type": "code",
   "execution_count": 10,
   "metadata": {},
   "outputs": [
    {
     "name": "stdout",
     "output_type": "stream",
     "text": [
      "{'first_name': 'Jack', 'last_name': 'Sparrow', 'mrn': '01234567', 'dob': '07012003'}\n"
     ]
    }
   ],
   "source": [
    "patient_3 = {\n",
    "    'first_name': 'Jack',\n",
    "    'last_name': 'Sparrow',\n",
    "    'mrn': '01234567',\n",
    "    'dob': '07012003'   \n",
    "}\n",
    "print(patient_3)"
   ]
  },
  {
   "cell_type": "code",
   "execution_count": 15,
   "metadata": {},
   "outputs": [
    {
     "name": "stdout",
     "output_type": "stream",
     "text": [
      "[{'first_name': 'Eric', 'last_name': 'Roberts', 'age': 43, 'city': 'New York'}, {'first_name': 'Michael', 'last_name': 'Smith', 'age': 5, 'city': 'New York'}, {'first_name': 'Willie', 'last_name': 'Jones', 'age': 8, 'city': 'New York'}]\n"
     ]
    }
   ],
   "source": [
    "people = [{'first_name': 'Eric', 'last_name': 'Roberts', 'age': 43, 'city': 'New York'}, \n",
    "          {'first_name': 'Michael', 'last_name': 'Smith', 'age': 5, 'city': 'New York'}, \n",
    "          {'first_name': 'Willie', 'last_name': 'Jones', 'age': 8, 'city': 'New York'}]\n",
    "print(people)"
   ]
  },
  {
   "cell_type": "code",
   "execution_count": 16,
   "metadata": {},
   "outputs": [
    {
     "name": "stdout",
     "output_type": "stream",
     "text": [
      "Eric Roberts, of New York, is 43 years old.\n",
      "Michael Smith, of New York, is 5 years old.\n",
      "Willie Jones, of New York, is 8 years old.\n"
     ]
    }
   ],
   "source": [
    "for person in people:\n",
    "    name = person['first_name'].title() + \" \" + person['last_name'].title()\n",
    "    age = str(person['age'])\n",
    "    city = person['city'].title()\n",
    "    \n",
    "    print(name + \", of \" + city + \", is \" + age + \" years old.\")"
   ]
  },
  {
   "cell_type": "code",
   "execution_count": 11,
   "metadata": {},
   "outputs": [
    {
     "name": "stdout",
     "output_type": "stream",
     "text": [
      "Eric Matthes, of New York, is 43 years old.\n",
      "Ever Matthes, of New York, is 5 years old.\n",
      "Willie Matthes, of New York, is 8 years old.\n"
     ]
    }
   ],
   "source": [
    "# Make an empty list to store people in.\n",
    "people = []\n",
    "\n",
    "# Define some people, and add them to the list.\n",
    "person = {\n",
    "    'first_name': 'eric',\n",
    "    'last_name': 'matthes',\n",
    "    'age': 43,\n",
    "    'city': 'New York',\n",
    "    }\n",
    "\n",
    "people.append(person)\n",
    "\n",
    "person = {\n",
    "    'first_name': 'ever',\n",
    "    'last_name': 'matthes',\n",
    "    'age': 5,\n",
    "    'city': 'New York',\n",
    "    }\n",
    "people.append(person)\n",
    "\n",
    "person = {\n",
    "    'first_name': 'willie',\n",
    "    'last_name': 'matthes',\n",
    "    'age': 8,\n",
    "    'city': 'New York',\n",
    "    }\n",
    "people.append(person)\n",
    "\n",
    "# Display all of the information in the dictionary.\n",
    "for person in people:\n",
    "    name = person['first_name'].title() + \" \" + person['last_name'].title()\n",
    "    age = str(person['age'])\n",
    "    city = person['city'].title()\n",
    "    \n",
    "    print(name + \", of \" + city + \", is \" + age + \" years old.\")"
   ]
  },
  {
   "cell_type": "code",
   "execution_count": 12,
   "metadata": {},
   "outputs": [
    {
     "name": "stdout",
     "output_type": "stream",
     "text": [
      "[{'first_name': 'eric', 'last_name': 'matthes', 'age': 43, 'city': 'New York'}, {'first_name': 'ever', 'last_name': 'matthes', 'age': 5, 'city': 'New York'}, {'first_name': 'willie', 'last_name': 'matthes', 'age': 8, 'city': 'New York'}]\n"
     ]
    }
   ],
   "source": []
  },
  {
   "cell_type": "code",
   "execution_count": 17,
   "metadata": {},
   "outputs": [
    {
     "name": "stdout",
     "output_type": "stream",
     "text": [
      "first_name\n",
      "last_name\n",
      "mrn\n",
      "dob\n"
     ]
    }
   ],
   "source": [
    "#The keys() method is useful for when you only need to use the key portion of your dictionary.\n",
    "for k in patient_3.keys():\n",
    "    print(k)"
   ]
  },
  {
   "cell_type": "code",
   "execution_count": 23,
   "metadata": {},
   "outputs": [
    {
     "name": "stdout",
     "output_type": "stream",
     "text": [
      "Nick\n",
      "Hi, Nick, I see you're 30\n",
      "Amanda\n",
      "Hi, Amanda, I see you're 34\n",
      "John\n",
      "Haley\n"
     ]
    }
   ],
   "source": [
    "# Create a new dictionary to work with keys\n",
    "friends_ages = {\n",
    "    'Nick': '30',\n",
    "    'Amanda': '34',\n",
    "    'John': '36',\n",
    "    'haley': '26'\n",
    "}\n",
    "\n",
    "favorite_friends = ['Nick','Amanda']\n",
    "for name in friends_ages.keys():\n",
    "    print(name.title())\n",
    "    \n",
    "    if name in favorite_friends:\n",
    "        print(\"Hi, \" + name.title() + \", I see you're \" + friends_ages[name])"
   ]
  },
  {
   "cell_type": "code",
   "execution_count": 24,
   "metadata": {},
   "outputs": [
    {
     "name": "stdout",
     "output_type": "stream",
     "text": [
      "1\n",
      "2\n",
      "3\n",
      "4\n",
      "5\n"
     ]
    }
   ],
   "source": [
    "#While loops are used to search through data; while a certain condition is True.  For example:\n",
    "number = 1\n",
    "while number <= 5:\n",
    "    print(number)\n",
    "    number +=1"
   ]
  },
  {
   "cell_type": "code",
   "execution_count": 26,
   "metadata": {},
   "outputs": [
    {
     "name": "stdout",
     "output_type": "stream",
     "text": [
      "please input your age 20\n",
      "20\n"
     ]
    }
   ],
   "source": [
    "#Users are also able to interact with the program you are creating.  Python can take an input from a user using the input() function.\n",
    "age = input(\"please input your age \")\n",
    "print(age)"
   ]
  },
  {
   "cell_type": "code",
   "execution_count": 37,
   "metadata": {},
   "outputs": [
    {
     "name": "stdout",
     "output_type": "stream",
     "text": [
      "Enter any word and I will print it until you write quit abc\n",
      "Your last entry was abc, enter quit or another word -> ccc\n",
      "Your last entry was ccc, enter quit or another word -> quit\n"
     ]
    }
   ],
   "source": [
    "#A while loop can be broken by a users input.\n",
    "message = input(\"Enter any word and I will print it until you write \"\"quit \"\"\")\n",
    "\n",
    "\n",
    "while message != 'quit':\n",
    "    message = input(\"Your last entry was \" + message + \", enter \"\"quit\"\" or another word -> \")\n"
   ]
  },
  {
   "cell_type": "code",
   "execution_count": 38,
   "metadata": {},
   "outputs": [
    {
     "name": "stdout",
     "output_type": "stream",
     "text": [
      "Enter any word and I will print it until you write quit abc\n",
      "Your last entry was abc, enter quit or another word -> cde\n",
      "cde\n",
      "Your last entry was cde, enter quit or another word -> quit\n"
     ]
    }
   ],
   "source": [
    "#Sometimes it makes more sense to create a flag to signal to Python to break the while loop.  \n",
    "#Programs will run while the flag is set to True.\n",
    "\n",
    "message = input(\"Enter any word and I will print it until you write \"\"quit \"\"\")\n",
    "active = True\n",
    "\n",
    "while active:\n",
    "    message = input(\"Your last entry was \" + message + \", enter \"\"quit\"\" or another word -> \")\n",
    "    if message == 'quit':\n",
    "        active = False\n",
    "    else:\n",
    "        print(message)"
   ]
  },
  {
   "cell_type": "code",
   "execution_count": null,
   "metadata": {},
   "outputs": [],
   "source": []
  }
 ],
 "metadata": {
  "kernelspec": {
   "display_name": "Python 3",
   "language": "python",
   "name": "python3"
  },
  "language_info": {
   "codemirror_mode": {
    "name": "ipython",
    "version": 3
   },
   "file_extension": ".py",
   "mimetype": "text/x-python",
   "name": "python",
   "nbconvert_exporter": "python",
   "pygments_lexer": "ipython3",
   "version": "3.8.3"
  }
 },
 "nbformat": 4,
 "nbformat_minor": 4
}
